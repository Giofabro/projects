{
 "cells": [
  {
   "cell_type": "markdown",
   "id": "2377113b",
   "metadata": {},
   "source": [
    "# A/B Testing for ShoeFly.com"
   ]
  },
  {
   "cell_type": "code",
   "execution_count": 1,
   "id": "4c0cdf51",
   "metadata": {},
   "outputs": [],
   "source": [
    "import requests\n",
    "import pandas as pd\n",
    "\n",
    "url = 'https://github.com/Giofabro/exercise-data-analysis/raw/main/Data_Repository/Excel1.xlsx'\n",
    "response = requests.get(url)\n",
    "open('Excel1.xlsx', 'wb').write(response.content)\n",
    "\n",
    "ad_clicks = pd.read_excel('Excel1.xlsx')"
   ]
  },
  {
   "cell_type": "markdown",
   "id": "c9cac6c9",
   "metadata": {},
   "source": [
    "## --- Analysis Data ---"
   ]
  },
  {
   "cell_type": "markdown",
   "id": "12cddd5b",
   "metadata": {},
   "source": [
    "First, let's start by understanding a few things. \n",
    "Let's examine the first few rows of our dataframe!"
   ]
  },
  {
   "cell_type": "code",
   "execution_count": 2,
   "id": "ab126202",
   "metadata": {},
   "outputs": [
    {
     "name": "stdout",
     "output_type": "stream",
     "text": [
      "   Unnamed: 0                               user-id utm_source           day  \\\n",
      "0           0  008b7c6c-7272-471e-b90e-930d548bd8d7     google  6 - Saturday   \n",
      "1           1  009abb94-5e14-4b6c-bb1c-4f4df7aa7557   facebook    7 - Sunday   \n",
      "2           2  00f5d532-ed58-4570-b6d2-768df5f41aed    twitter   2 - Tuesday   \n",
      "3           3  011adc64-0f44-4fd9-a0bb-f1506d2ad439     google   2 - Tuesday   \n",
      "4           4  012137e6-7ae7-4649-af68-205b4702169c   facebook    7 - Sunday   \n",
      "\n",
      "  ad_click_timestamp experimental_group  \n",
      "0           07:18:00                  A  \n",
      "1                NaN                  B  \n",
      "2                NaN                  A  \n",
      "3                NaN                  B  \n",
      "4                NaN                  B  \n"
     ]
    }
   ],
   "source": [
    "print(ad_clicks.head())"
   ]
  },
  {
   "cell_type": "markdown",
   "id": "790a8c5f",
   "metadata": {},
   "source": [
    "Piccolo errore. Rinominiamo colonna 'user-id' con 'user_id'"
   ]
  },
  {
   "cell_type": "code",
   "execution_count": 3,
   "id": "cbbb530e",
   "metadata": {},
   "outputs": [],
   "source": [
    "ad_clicks.rename(columns ={'user-id': 'user_id'}, inplace = True)"
   ]
  },
  {
   "cell_type": "markdown",
   "id": "61e37ba5",
   "metadata": {},
   "source": [
    "We evaluate which platform had more visits."
   ]
  },
  {
   "cell_type": "code",
   "execution_count": 4,
   "id": "d1e247b8",
   "metadata": {},
   "outputs": [
    {
     "name": "stdout",
     "output_type": "stream",
     "text": [
      "  utm_source  user_id\n",
      "0      email      255\n",
      "1   facebook      504\n",
      "2     google      680\n",
      "3    twitter      215\n"
     ]
    }
   ],
   "source": [
    "mayor_utm_source = ad_clicks.groupby('utm_source').user_id.count().reset_index()\n",
    "\n",
    "print(mayor_utm_source)"
   ]
  },
  {
   "cell_type": "markdown",
   "id": "2e1031ec",
   "metadata": {},
   "source": [
    "Google is the winner! Well, let's proceed with the analysis. We want to know the percentage of people who clicked on the ads in each utm_source.\n",
    "\n",
    "We start by grouping by utm_source and is_click and counting the number of user_ids in each of these groups. We save the answer in the clicks_by_source variable. "
   ]
  },
  {
   "cell_type": "code",
   "execution_count": 5,
   "id": "1376e2e1",
   "metadata": {},
   "outputs": [],
   "source": [
    "ad_clicks['is_click'] = ~ad_clicks.ad_click_timestamp.isnull()\n",
    "\n",
    "clicks_by_source = ad_clicks\\\n",
    "   .groupby(['utm_source',\n",
    "             'is_click'])\\\n",
    "   .user_id.count()\\\n",
    "   .reset_index()"
   ]
  },
  {
   "cell_type": "markdown",
   "id": "8371f27f",
   "metadata": {},
   "source": [
    "Now let's pivot the data so that the columns are is_click (either True or False), the index is utm_source, and the values are user_id."
   ]
  },
  {
   "cell_type": "code",
   "execution_count": 6,
   "id": "a458fe64",
   "metadata": {},
   "outputs": [],
   "source": [
    "clicks_pivot = clicks_by_source.pivot(\n",
    "    index='utm_source',\n",
    "    columns='is_click',\n",
    "    values='user_id').reset_index()"
   ]
  },
  {
   "cell_type": "markdown",
   "id": "d8797512",
   "metadata": {},
   "source": [
    "We create a new column in clicks_pivot called percent_clicked that is equal to the percentage of users who clicked on the ad from each utm_source."
   ]
  },
  {
   "cell_type": "code",
   "execution_count": 7,
   "id": "a7ed5e2b",
   "metadata": {},
   "outputs": [],
   "source": [
    "clicks_pivot['percent_clicked'] = \\\n",
    "   clicks_pivot[True] / \\\n",
    "   (clicks_pivot[True] + \n",
    "    clicks_pivot[False])"
   ]
  },
  {
   "cell_type": "code",
   "execution_count": 8,
   "id": "6c141bfc",
   "metadata": {},
   "outputs": [
    {
     "name": "stdout",
     "output_type": "stream",
     "text": [
      "is_click utm_source  False  True  percent_clicked\n",
      "0             email    175    80         0.313725\n",
      "1          facebook    324   180         0.357143\n",
      "2            google    441   239         0.351471\n",
      "3           twitter    149    66         0.306977\n"
     ]
    }
   ],
   "source": [
    "print(clicks_pivot)"
   ]
  },
  {
   "cell_type": "markdown",
   "id": "4e7fb18d",
   "metadata": {},
   "source": [
    "## --- A/B Test ---"
   ]
  },
  {
   "cell_type": "code",
   "execution_count": 9,
   "id": "6d32564f",
   "metadata": {},
   "outputs": [
    {
     "data": {
      "text/html": [
       "<div>\n",
       "<style scoped>\n",
       "    .dataframe tbody tr th:only-of-type {\n",
       "        vertical-align: middle;\n",
       "    }\n",
       "\n",
       "    .dataframe tbody tr th {\n",
       "        vertical-align: top;\n",
       "    }\n",
       "\n",
       "    .dataframe thead th {\n",
       "        text-align: right;\n",
       "    }\n",
       "</style>\n",
       "<table border=\"1\" class=\"dataframe\">\n",
       "  <thead>\n",
       "    <tr style=\"text-align: right;\">\n",
       "      <th></th>\n",
       "      <th>experimental_group</th>\n",
       "      <th>user_id</th>\n",
       "    </tr>\n",
       "  </thead>\n",
       "  <tbody>\n",
       "    <tr>\n",
       "      <th>0</th>\n",
       "      <td>A</td>\n",
       "      <td>827</td>\n",
       "    </tr>\n",
       "    <tr>\n",
       "      <th>1</th>\n",
       "      <td>B</td>\n",
       "      <td>827</td>\n",
       "    </tr>\n",
       "  </tbody>\n",
       "</table>\n",
       "</div>"
      ],
      "text/plain": [
       "  experimental_group  user_id\n",
       "0                  A      827\n",
       "1                  B      827"
      ]
     },
     "execution_count": 9,
     "metadata": {},
     "output_type": "execute_result"
    }
   ],
   "source": [
    "ad_clicks.groupby('experimental_group').user_id.count().reset_index()"
   ]
  },
  {
   "cell_type": "code",
   "execution_count": 10,
   "id": "991e2596",
   "metadata": {},
   "outputs": [
    {
     "data": {
      "text/html": [
       "<div>\n",
       "<style scoped>\n",
       "    .dataframe tbody tr th:only-of-type {\n",
       "        vertical-align: middle;\n",
       "    }\n",
       "\n",
       "    .dataframe tbody tr th {\n",
       "        vertical-align: top;\n",
       "    }\n",
       "\n",
       "    .dataframe thead th {\n",
       "        text-align: right;\n",
       "    }\n",
       "</style>\n",
       "<table border=\"1\" class=\"dataframe\">\n",
       "  <thead>\n",
       "    <tr style=\"text-align: right;\">\n",
       "      <th>is_click</th>\n",
       "      <th>experimental_group</th>\n",
       "      <th>False</th>\n",
       "      <th>True</th>\n",
       "    </tr>\n",
       "  </thead>\n",
       "  <tbody>\n",
       "    <tr>\n",
       "      <th>0</th>\n",
       "      <td>A</td>\n",
       "      <td>517</td>\n",
       "      <td>310</td>\n",
       "    </tr>\n",
       "    <tr>\n",
       "      <th>1</th>\n",
       "      <td>B</td>\n",
       "      <td>572</td>\n",
       "      <td>255</td>\n",
       "    </tr>\n",
       "  </tbody>\n",
       "</table>\n",
       "</div>"
      ],
      "text/plain": [
       "is_click experimental_group  False  True\n",
       "0                         A    517   310\n",
       "1                         B    572   255"
      ]
     },
     "execution_count": 10,
     "metadata": {},
     "output_type": "execute_result"
    }
   ],
   "source": [
    "ad_clicks.groupby(['experimental_group', 'is_click']).user_id.count().reset_index()\\\n",
    ".pivot(\n",
    "index = 'experimental_group',\n",
    "columns = 'is_click',\n",
    "values = 'user_id'\n",
    ").reset_index()"
   ]
  },
  {
   "cell_type": "markdown",
   "id": "b6a7cac6",
   "metadata": {},
   "source": [
    "Let's analyze group A and B. Let's make two new dataframes."
   ]
  },
  {
   "cell_type": "code",
   "execution_count": 11,
   "id": "c403c42f",
   "metadata": {},
   "outputs": [],
   "source": [
    "a_ad_clicks = ad_clicks[ad_clicks.experimental_group == 'A']\n",
    "b_ad_clicks = ad_clicks[ad_clicks.experimental_group == 'B']"
   ]
  },
  {
   "cell_type": "markdown",
   "id": "2bd37667",
   "metadata": {},
   "source": [
    "Let us now use pivots."
   ]
  },
  {
   "cell_type": "code",
   "execution_count": 12,
   "id": "daf5270f",
   "metadata": {},
   "outputs": [
    {
     "name": "stdout",
     "output_type": "stream",
     "text": [
      "is_click            day  False  True  percent_clicked\n",
      "0            1 - Monday     70    43         0.380531\n",
      "1           2 - Tuesday     76    43         0.361345\n",
      "2         3 - Wednesday     86    38         0.306452\n",
      "3          4 - Thursday     69    47         0.405172\n",
      "4            5 - Friday     77    51         0.398438\n",
      "5          6 - Saturday     73    45         0.381356\n",
      "6            7 - Sunday     66    43         0.394495\n"
     ]
    }
   ],
   "source": [
    "a_clicks_pivot = a_ad_clicks.groupby(['is_click', 'day']).user_id.count().reset_index()\\\n",
    ".pivot(\n",
    "index = 'day',\n",
    "columns = 'is_click',\n",
    "values = 'user_id'\n",
    ").reset_index()\n",
    "\n",
    "a_clicks_pivot['percent_clicked'] = \\\n",
    "a_clicks_pivot[True] / \\\n",
    "(a_clicks_pivot[True] + a_clicks_pivot[False])\n",
    "\n",
    "print(a_clicks_pivot)"
   ]
  },
  {
   "cell_type": "markdown",
   "id": "bca7552b",
   "metadata": {},
   "source": [
    "Now it's B's turn. We simply copy by replacing A with B"
   ]
  },
  {
   "cell_type": "code",
   "execution_count": 13,
   "id": "3e98cf91",
   "metadata": {},
   "outputs": [
    {
     "name": "stdout",
     "output_type": "stream",
     "text": [
      "is_click            day  False  True  percent_clicked\n",
      "0            1 - Monday     81    32         0.283186\n",
      "1           2 - Tuesday     74    45         0.378151\n",
      "2         3 - Wednesday     89    35         0.282258\n",
      "3          4 - Thursday     87    29         0.250000\n",
      "4            5 - Friday     90    38         0.296875\n",
      "5          6 - Saturday     76    42         0.355932\n",
      "6            7 - Sunday     75    34         0.311927\n"
     ]
    }
   ],
   "source": [
    "b_clicks_pivot = b_ad_clicks.groupby(['is_click', 'day']).user_id.count().reset_index()\\\n",
    ".pivot(\n",
    "index = 'day',\n",
    "columns = 'is_click',\n",
    "values = 'user_id'\n",
    ").reset_index()\n",
    "\n",
    "b_clicks_pivot['percent_clicked'] = \\\n",
    "b_clicks_pivot[True] / \\\n",
    "(b_clicks_pivot[True] + b_clicks_pivot[False])\n",
    "\n",
    "print(b_clicks_pivot)"
   ]
  }
 ],
 "metadata": {
  "kernelspec": {
   "display_name": "Python 3 (ipykernel)",
   "language": "python",
   "name": "python3"
  },
  "language_info": {
   "codemirror_mode": {
    "name": "ipython",
    "version": 3
   },
   "file_extension": ".py",
   "mimetype": "text/x-python",
   "name": "python",
   "nbconvert_exporter": "python",
   "pygments_lexer": "ipython3",
   "version": "3.9.12"
  }
 },
 "nbformat": 4,
 "nbformat_minor": 5
}
