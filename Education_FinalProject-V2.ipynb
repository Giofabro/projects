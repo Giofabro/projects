{
 "cells": [
  {
   "cell_type": "code",
   "execution_count": 1,
   "id": "0f9a0404-fb6f-4e8f-b13c-41d6cee4fad2",
   "metadata": {},
   "outputs": [],
   "source": [
    "import matplotlib.pyplot as plt\n",
    "from matplotlib.ticker import FuncFormatter\n",
    "import pandas as pd\n",
    "import seaborn as sns\n",
    "import requests\n",
    "import numpy as np\n",
    "\n",
    "url = 'https://github.com/Giofabro/exercise-data-analysis/raw/main/Data_Repository/Education_data Final Project.csv'\n",
    "response = requests.get(url)\n",
    "open('Education_data Final Project.csv', 'wb').write(response.content)\n",
    "\n",
    "# load in the data\n",
    "education_df = pd.read_csv(\"Education_data Final Project.csv\")\n",
    "\n",
    "# line\n",
    "line = \"____________________\""
   ]
  },
  {
   "cell_type": "markdown",
   "id": "4d17669f-0976-4d7c-b369-08700c33877f",
   "metadata": {},
   "source": [
    "## Check Dataframe"
   ]
  },
  {
   "cell_type": "code",
   "execution_count": 2,
   "id": "9b5d45e6-b04c-44bb-b4e9-1e60271b481d",
   "metadata": {},
   "outputs": [
    {
     "name": "stdout",
     "output_type": "stream",
     "text": [
      "<class 'pandas.core.frame.DataFrame'>\n",
      "RangeIndex: 999 entries, 0 to 998\n",
      "Data columns (total 12 columns):\n",
      " #   Column             Non-Null Count  Dtype \n",
      "---  ------             --------------  ----- \n",
      " 0   class_date         999 non-null    object\n",
      " 1   user_uuid          999 non-null    int64 \n",
      " 2   category           999 non-null    object\n",
      " 3   trainer_id         999 non-null    int64 \n",
      " 4   language           999 non-null    object\n",
      " 5   level              999 non-null    object\n",
      " 6   challenge_id       999 non-null    int64 \n",
      " 7   country            999 non-null    object\n",
      " 8   subscription_date  999 non-null    object\n",
      " 9   platform           999 non-null    object\n",
      " 10  class_id           999 non-null    int64 \n",
      " 11  stars              999 non-null    int64 \n",
      "dtypes: int64(5), object(7)\n",
      "memory usage: 93.8+ KB\n",
      "None\n"
     ]
    }
   ],
   "source": [
    "print(education_df.info())"
   ]
  },
  {
   "cell_type": "code",
   "execution_count": 3,
   "id": "8bc678c2-0eeb-4097-a944-daf69cab2916",
   "metadata": {},
   "outputs": [],
   "source": [
    "# Scartare valore null\n",
    "education_df = education_df.dropna()\n",
    "\n",
    "# Scartare duplicati\n",
    "education_df = education_df.drop_duplicates()"
   ]
  },
  {
   "cell_type": "code",
   "execution_count": 4,
   "id": "a83eb484-acde-41f7-9f01-8810b1132244",
   "metadata": {},
   "outputs": [],
   "source": [
    "# Converti le colonne \"class_date\" e \"subscription_date\" in formato datetime\n",
    "education_df['class_date'] = pd.to_datetime(education_df['class_date'], format='%d-%m-%Y')\n",
    "education_df['subscription_date'] = pd.to_datetime(education_df['subscription_date'], format='%d-%m-%Y')\n"
   ]
  },
  {
   "cell_type": "markdown",
   "id": "3a23692c-eb84-4ec9-b377-474169b257f5",
   "metadata": {
    "tags": []
   },
   "source": [
    "# Analisi dataframe -> Generale"
   ]
  },
  {
   "cell_type": "code",
   "execution_count": 5,
   "id": "a64d1fca-17bb-4f49-acf4-46034c63ff58",
   "metadata": {},
   "outputs": [
    {
     "data": {
      "text/html": [
       "<div>\n",
       "<style scoped>\n",
       "    .dataframe tbody tr th:only-of-type {\n",
       "        vertical-align: middle;\n",
       "    }\n",
       "\n",
       "    .dataframe tbody tr th {\n",
       "        vertical-align: top;\n",
       "    }\n",
       "\n",
       "    .dataframe thead th {\n",
       "        text-align: right;\n",
       "    }\n",
       "</style>\n",
       "<table border=\"1\" class=\"dataframe\">\n",
       "  <thead>\n",
       "    <tr style=\"text-align: right;\">\n",
       "      <th></th>\n",
       "      <th>class_date</th>\n",
       "      <th>user_uuid</th>\n",
       "      <th>category</th>\n",
       "      <th>trainer_id</th>\n",
       "      <th>language</th>\n",
       "      <th>level</th>\n",
       "      <th>challenge_id</th>\n",
       "      <th>country</th>\n",
       "      <th>subscription_date</th>\n",
       "      <th>platform</th>\n",
       "      <th>class_id</th>\n",
       "      <th>stars</th>\n",
       "    </tr>\n",
       "  </thead>\n",
       "  <tbody>\n",
       "    <tr>\n",
       "      <th>0</th>\n",
       "      <td>2023-10-05</td>\n",
       "      <td>195</td>\n",
       "      <td>statistics</td>\n",
       "      <td>110</td>\n",
       "      <td>en</td>\n",
       "      <td>basic</td>\n",
       "      <td>2</td>\n",
       "      <td>uk</td>\n",
       "      <td>2022-12-09</td>\n",
       "      <td>tv</td>\n",
       "      <td>6171</td>\n",
       "      <td>1</td>\n",
       "    </tr>\n",
       "    <tr>\n",
       "      <th>1</th>\n",
       "      <td>2022-12-02</td>\n",
       "      <td>63</td>\n",
       "      <td>statistics</td>\n",
       "      <td>114</td>\n",
       "      <td>en</td>\n",
       "      <td>basic</td>\n",
       "      <td>0</td>\n",
       "      <td>uk</td>\n",
       "      <td>2020-02-27</td>\n",
       "      <td>mobile</td>\n",
       "      <td>6159</td>\n",
       "      <td>3</td>\n",
       "    </tr>\n",
       "    <tr>\n",
       "      <th>2</th>\n",
       "      <td>2023-07-22</td>\n",
       "      <td>32</td>\n",
       "      <td>data_science</td>\n",
       "      <td>118</td>\n",
       "      <td>it</td>\n",
       "      <td>advanced</td>\n",
       "      <td>3</td>\n",
       "      <td>it</td>\n",
       "      <td>2022-03-07</td>\n",
       "      <td>pc</td>\n",
       "      <td>3363</td>\n",
       "      <td>3</td>\n",
       "    </tr>\n",
       "    <tr>\n",
       "      <th>3</th>\n",
       "      <td>2021-05-20</td>\n",
       "      <td>67</td>\n",
       "      <td>statistics</td>\n",
       "      <td>114</td>\n",
       "      <td>fr</td>\n",
       "      <td>basic</td>\n",
       "      <td>1</td>\n",
       "      <td>fr</td>\n",
       "      <td>2020-10-01</td>\n",
       "      <td>tv</td>\n",
       "      <td>6175</td>\n",
       "      <td>2</td>\n",
       "    </tr>\n",
       "    <tr>\n",
       "      <th>4</th>\n",
       "      <td>2023-08-18</td>\n",
       "      <td>97</td>\n",
       "      <td>data_science</td>\n",
       "      <td>109</td>\n",
       "      <td>it</td>\n",
       "      <td>basic</td>\n",
       "      <td>1</td>\n",
       "      <td>it</td>\n",
       "      <td>2021-05-21</td>\n",
       "      <td>mobile</td>\n",
       "      <td>3179</td>\n",
       "      <td>2</td>\n",
       "    </tr>\n",
       "    <tr>\n",
       "      <th>...</th>\n",
       "      <td>...</td>\n",
       "      <td>...</td>\n",
       "      <td>...</td>\n",
       "      <td>...</td>\n",
       "      <td>...</td>\n",
       "      <td>...</td>\n",
       "      <td>...</td>\n",
       "      <td>...</td>\n",
       "      <td>...</td>\n",
       "      <td>...</td>\n",
       "      <td>...</td>\n",
       "      <td>...</td>\n",
       "    </tr>\n",
       "    <tr>\n",
       "      <th>994</th>\n",
       "      <td>2022-01-17</td>\n",
       "      <td>212</td>\n",
       "      <td>data_analysis</td>\n",
       "      <td>118</td>\n",
       "      <td>fr</td>\n",
       "      <td>advanced</td>\n",
       "      <td>1</td>\n",
       "      <td>fr</td>\n",
       "      <td>2020-02-27</td>\n",
       "      <td>tv</td>\n",
       "      <td>2349</td>\n",
       "      <td>2</td>\n",
       "    </tr>\n",
       "    <tr>\n",
       "      <th>995</th>\n",
       "      <td>2022-11-09</td>\n",
       "      <td>83</td>\n",
       "      <td>SEO</td>\n",
       "      <td>106</td>\n",
       "      <td>it</td>\n",
       "      <td>basic</td>\n",
       "      <td>0</td>\n",
       "      <td>it</td>\n",
       "      <td>2020-07-23</td>\n",
       "      <td>tv</td>\n",
       "      <td>6196</td>\n",
       "      <td>3</td>\n",
       "    </tr>\n",
       "    <tr>\n",
       "      <th>996</th>\n",
       "      <td>2022-07-28</td>\n",
       "      <td>203</td>\n",
       "      <td>UX</td>\n",
       "      <td>117</td>\n",
       "      <td>it</td>\n",
       "      <td>intermediate</td>\n",
       "      <td>3</td>\n",
       "      <td>it</td>\n",
       "      <td>2021-03-28</td>\n",
       "      <td>pc</td>\n",
       "      <td>1290</td>\n",
       "      <td>5</td>\n",
       "    </tr>\n",
       "    <tr>\n",
       "      <th>997</th>\n",
       "      <td>2022-10-06</td>\n",
       "      <td>138</td>\n",
       "      <td>data_science</td>\n",
       "      <td>100</td>\n",
       "      <td>it</td>\n",
       "      <td>intermediate</td>\n",
       "      <td>1</td>\n",
       "      <td>it</td>\n",
       "      <td>2020-04-06</td>\n",
       "      <td>mobile</td>\n",
       "      <td>3229</td>\n",
       "      <td>1</td>\n",
       "    </tr>\n",
       "    <tr>\n",
       "      <th>998</th>\n",
       "      <td>2023-01-18</td>\n",
       "      <td>123</td>\n",
       "      <td>statistics</td>\n",
       "      <td>100</td>\n",
       "      <td>fr</td>\n",
       "      <td>intermediate</td>\n",
       "      <td>2</td>\n",
       "      <td>fr</td>\n",
       "      <td>2021-09-19</td>\n",
       "      <td>tv</td>\n",
       "      <td>6275</td>\n",
       "      <td>5</td>\n",
       "    </tr>\n",
       "  </tbody>\n",
       "</table>\n",
       "<p>999 rows × 12 columns</p>\n",
       "</div>"
      ],
      "text/plain": [
       "    class_date  user_uuid       category  trainer_id language         level  \\\n",
       "0   2023-10-05        195     statistics         110       en         basic   \n",
       "1   2022-12-02         63     statistics         114       en         basic   \n",
       "2   2023-07-22         32   data_science         118       it      advanced   \n",
       "3   2021-05-20         67     statistics         114       fr         basic   \n",
       "4   2023-08-18         97   data_science         109       it         basic   \n",
       "..         ...        ...            ...         ...      ...           ...   \n",
       "994 2022-01-17        212  data_analysis         118       fr      advanced   \n",
       "995 2022-11-09         83            SEO         106       it         basic   \n",
       "996 2022-07-28        203             UX         117       it  intermediate   \n",
       "997 2022-10-06        138   data_science         100       it  intermediate   \n",
       "998 2023-01-18        123     statistics         100       fr  intermediate   \n",
       "\n",
       "     challenge_id country subscription_date platform  class_id  stars  \n",
       "0               2      uk        2022-12-09       tv      6171      1  \n",
       "1               0      uk        2020-02-27   mobile      6159      3  \n",
       "2               3      it        2022-03-07       pc      3363      3  \n",
       "3               1      fr        2020-10-01       tv      6175      2  \n",
       "4               1      it        2021-05-21   mobile      3179      2  \n",
       "..            ...     ...               ...      ...       ...    ...  \n",
       "994             1      fr        2020-02-27       tv      2349      2  \n",
       "995             0      it        2020-07-23       tv      6196      3  \n",
       "996             3      it        2021-03-28       pc      1290      5  \n",
       "997             1      it        2020-04-06   mobile      3229      1  \n",
       "998             2      fr        2021-09-19       tv      6275      5  \n",
       "\n",
       "[999 rows x 12 columns]"
      ]
     },
     "execution_count": 5,
     "metadata": {},
     "output_type": "execute_result"
    }
   ],
   "source": [
    "education_df"
   ]
  },
  {
   "cell_type": "code",
   "execution_count": 6,
   "id": "b10b0540-34ad-4073-9132-5825eddd41f0",
   "metadata": {},
   "outputs": [
    {
     "name": "stdout",
     "output_type": "stream",
     "text": [
      "241\n"
     ]
    }
   ],
   "source": [
    "# Totale utenti \n",
    "unique_users_uuid = education_df['user_uuid'].nunique()\n",
    "print(unique_users_uuid)"
   ]
  },
  {
   "cell_type": "code",
   "execution_count": 7,
   "id": "22654842-54af-48af-965a-f85c34975941",
   "metadata": {},
   "outputs": [
    {
     "name": "stdout",
     "output_type": "stream",
     "text": [
      "639\n"
     ]
    }
   ],
   "source": [
    "# Totale classi\n",
    "unique_class_id = education_df['class_id'].nunique()\n",
    "print(unique_class_id)"
   ]
  },
  {
   "cell_type": "code",
   "execution_count": 8,
   "id": "4407e224-1d7b-44d8-b86e-d53a790641e7",
   "metadata": {},
   "outputs": [
    {
     "name": "stdout",
     "output_type": "stream",
     "text": [
      "23\n"
     ]
    }
   ],
   "source": [
    "# Totale insegnanti\n",
    "unique_trainer_id = education_df['trainer_id'].nunique()\n",
    "print(unique_trainer_id)"
   ]
  },
  {
   "cell_type": "markdown",
   "id": "8dcc92da-8d58-476d-aa14-95b00c60c90f",
   "metadata": {},
   "source": [
    "## Step 1"
   ]
  },
  {
   "cell_type": "markdown",
   "id": "c8deed4b-66dd-41f1-adeb-4e82e07b707f",
   "metadata": {},
   "source": [
    "Abbiamo quasi 250 studenti e un numero di classi considerevoli. Gli insegnante sono appena 23. Capiamo meglio lo status del nostro istituto. "
   ]
  },
  {
   "cell_type": "code",
   "execution_count": 9,
   "id": "fd5feebe-662b-4f08-aeef-d5bde2b77f9b",
   "metadata": {},
   "outputs": [
    {
     "name": "stdout",
     "output_type": "stream",
     "text": [
      "advanced        44.444444\n",
      "basic           35.135135\n",
      "intermediate    20.420420\n",
      "Name: level, dtype: float64\n",
      "____________________\n",
      "it    48.148148\n",
      "uk    31.031031\n",
      "fr    20.820821\n",
      "Name: country, dtype: float64\n",
      "____________________\n",
      "tv        42.042042\n",
      "pc        35.135135\n",
      "mobile    22.822823\n",
      "Name: platform, dtype: float64\n",
      "____________________\n"
     ]
    },
    {
     "data": {
      "image/png": "[encoded data removed]",
      "text/plain": [
       "<Figure size 1440x864 with 3 Axes>"
      ]
     },
     "metadata": {},
     "output_type": "display_data"
    }
   ],
   "source": [
    "# Personalizzazione grafici\n",
    "plt.figure(figsize=(20, 12))\n",
    "\n",
    "# frist analysis + graph\n",
    "level_props = education_df.level.value_counts() / len(education_df.level) * 100\n",
    "print(level_props)\n",
    "print(line)\n",
    "plt.subplot(1,3,1)\n",
    "plt.pie(level_props, labels=level_props.index, autopct=\"%0.1f%%\")\n",
    "plt.title('Livelli di istruzione')\n",
    "\n",
    "\n",
    "# second analysis + graph\n",
    "country_props = education_df.country.value_counts() / len(education_df.country) * 100\n",
    "print(country_props)\n",
    "print(line)\n",
    "plt.subplot(1,3,2)\n",
    "plt.pie(country_props, labels=country_props.index, autopct=\"%0.1f%%\")\n",
    "plt.title('Country')\n",
    "\n",
    "#third analysis + graph\n",
    "platform_props = education_df.platform.value_counts() / len(education_df.platform) * 100\n",
    "print(platform_props)\n",
    "print(line)\n",
    "plt.subplot(1,3,3)\n",
    "plt.pie(platform_props, labels=platform_props.index, autopct=\"%0.1f%%\")\n",
    "plt.title('Platform')\n",
    "\n",
    "plt.show()"
   ]
  },
  {
   "cell_type": "markdown",
   "id": "db95f778-a614-4bb9-ba4e-423f6757f7bd",
   "metadata": {},
   "source": [
    "## Step 2\n",
    "\n",
    "Il livello di istruzione è suddiviso quasi in una forchetta: o troppo advanced o troppo basic. Bisognerebbe attenzionare gli studenti basic e rimpolpare le statistiche almeno del livello intermediate. Buona parte dei nostri studenti sono italiani. A sorpresa, buona parte della fruizione dei contenuti scolastici avviene mediante la TV. \n",
    "\n",
    "Capiamo adesso le materie preferite degli studenti."
   ]
  },
  {
   "cell_type": "code",
   "execution_count": 10,
   "id": "f59ad9c1-8772-434b-ad01-a164af8493fd",
   "metadata": {},
   "outputs": [
    {
     "name": "stdout",
     "output_type": "stream",
     "text": [
      "statistics       32.832833\n",
      "UX               15.915916\n",
      "data_analysis    14.614615\n",
      "data_science     12.812813\n",
      "full_stack        9.709710\n",
      "SEO               7.707708\n",
      "copywriting       6.406406\n",
      "Name: category, dtype: float64\n"
     ]
    }
   ],
   "source": [
    "category_props = education_df.category.value_counts() / len(education_df.category) * 100\n",
    "print(category_props)"
   ]
  },
  {
   "cell_type": "code",
   "execution_count": 11,
   "id": "b6f84578-52da-48ee-81d5-d87b3be73aba",
   "metadata": {},
   "outputs": [
    {
     "data": {
      "image/png": "[encoded data removed]",
      "text/plain": [
       "<Figure size 1440x864 with 1 Axes>"
      ]
     },
     "metadata": {
      "needs_background": "light"
     },
     "output_type": "display_data"
    }
   ],
   "source": [
    "# Personalizzazione grafici\n",
    "plt.figure(figsize=(20, 12))\n",
    "\n",
    "# Bar Plot\n",
    "plt.bar(category_props.index, category_props.values)\n",
    "plt.xticks(rotation=45)\n",
    "plt.xlabel('Category')\n",
    "plt.ylabel('Percentage')\n",
    "plt.title('Materie')\n",
    "\n",
    "plt.show()"
   ]
  },
  {
   "cell_type": "markdown",
   "id": "30c852a2-7ba6-48af-9ddf-273986531d97",
   "metadata": {},
   "source": [
    "Le materie a matrice matematica sono molto apprezzate (Statistics -> 32.8%, Data Analysis -> 14.6%  e Data Science -> 12.8% ). Potrebbe essere un ottimo spunto per creare una \"Persona\". Materie legate al Digital Marketink relegati alla fine. "
   ]
  },
  {
   "cell_type": "markdown",
   "id": "667d5a26-0fef-45d8-82b7-c74ab6ccc0c6",
   "metadata": {},
   "source": [
    "# Analisi dataframe -> 2021"
   ]
  },
  {
   "cell_type": "markdown",
   "id": "0c327142-0623-4448-91f5-afea0885068a",
   "metadata": {},
   "source": [
    "Riapplichiamo le nostre analisi precedenti all'anno 2021. Ci sono differenze? "
   ]
  },
  {
   "cell_type": "code",
   "execution_count": 12,
   "id": "76c30e32-1e8b-415d-b985-cada6b756dd0",
   "metadata": {},
   "outputs": [],
   "source": [
    "# Filtrare il dataframe solo per le righe con date del 2021\n",
    "education_df_2021 = education_df[education_df.class_date.dt.year == 2021]"
   ]
  },
  {
   "cell_type": "code",
   "execution_count": 13,
   "id": "fc1132a6-cfff-4188-98dc-dca289173739",
   "metadata": {},
   "outputs": [
    {
     "data": {
      "text/html": [
       "<div>\n",
       "<style scoped>\n",
       "    .dataframe tbody tr th:only-of-type {\n",
       "        vertical-align: middle;\n",
       "    }\n",
       "\n",
       "    .dataframe tbody tr th {\n",
       "        vertical-align: top;\n",
       "    }\n",
       "\n",
       "    .dataframe thead th {\n",
       "        text-align: right;\n",
       "    }\n",
       "</style>\n",
       "<table border=\"1\" class=\"dataframe\">\n",
       "  <thead>\n",
       "    <tr style=\"text-align: right;\">\n",
       "      <th></th>\n",
       "      <th>class_date</th>\n",
       "      <th>user_uuid</th>\n",
       "      <th>category</th>\n",
       "      <th>trainer_id</th>\n",
       "      <th>language</th>\n",
       "      <th>level</th>\n",
       "      <th>challenge_id</th>\n",
       "      <th>country</th>\n",
       "      <th>subscription_date</th>\n",
       "      <th>platform</th>\n",
       "      <th>class_id</th>\n",
       "      <th>stars</th>\n",
       "    </tr>\n",
       "  </thead>\n",
       "  <tbody>\n",
       "    <tr>\n",
       "      <th>3</th>\n",
       "      <td>2021-05-20</td>\n",
       "      <td>67</td>\n",
       "      <td>statistics</td>\n",
       "      <td>114</td>\n",
       "      <td>fr</td>\n",
       "      <td>basic</td>\n",
       "      <td>1</td>\n",
       "      <td>fr</td>\n",
       "      <td>2020-10-01</td>\n",
       "      <td>tv</td>\n",
       "      <td>6175</td>\n",
       "      <td>2</td>\n",
       "    </tr>\n",
       "    <tr>\n",
       "      <th>5</th>\n",
       "      <td>2021-06-16</td>\n",
       "      <td>69</td>\n",
       "      <td>statistics</td>\n",
       "      <td>113</td>\n",
       "      <td>en</td>\n",
       "      <td>advanced</td>\n",
       "      <td>0</td>\n",
       "      <td>uk</td>\n",
       "      <td>2020-08-23</td>\n",
       "      <td>tv</td>\n",
       "      <td>6314</td>\n",
       "      <td>4</td>\n",
       "    </tr>\n",
       "    <tr>\n",
       "      <th>19</th>\n",
       "      <td>2021-08-19</td>\n",
       "      <td>65</td>\n",
       "      <td>UX</td>\n",
       "      <td>121</td>\n",
       "      <td>fr</td>\n",
       "      <td>intermediate</td>\n",
       "      <td>0</td>\n",
       "      <td>fr</td>\n",
       "      <td>2020-05-04</td>\n",
       "      <td>tv</td>\n",
       "      <td>1270</td>\n",
       "      <td>3</td>\n",
       "    </tr>\n",
       "    <tr>\n",
       "      <th>50</th>\n",
       "      <td>2021-09-01</td>\n",
       "      <td>121</td>\n",
       "      <td>full_stack</td>\n",
       "      <td>110</td>\n",
       "      <td>it</td>\n",
       "      <td>basic</td>\n",
       "      <td>3</td>\n",
       "      <td>it</td>\n",
       "      <td>2020-11-03</td>\n",
       "      <td>pc</td>\n",
       "      <td>6178</td>\n",
       "      <td>3</td>\n",
       "    </tr>\n",
       "    <tr>\n",
       "      <th>55</th>\n",
       "      <td>2021-05-03</td>\n",
       "      <td>149</td>\n",
       "      <td>full_stack</td>\n",
       "      <td>106</td>\n",
       "      <td>en</td>\n",
       "      <td>intermediate</td>\n",
       "      <td>2</td>\n",
       "      <td>uk</td>\n",
       "      <td>2020-05-11</td>\n",
       "      <td>mobile</td>\n",
       "      <td>6227</td>\n",
       "      <td>1</td>\n",
       "    </tr>\n",
       "    <tr>\n",
       "      <th>...</th>\n",
       "      <td>...</td>\n",
       "      <td>...</td>\n",
       "      <td>...</td>\n",
       "      <td>...</td>\n",
       "      <td>...</td>\n",
       "      <td>...</td>\n",
       "      <td>...</td>\n",
       "      <td>...</td>\n",
       "      <td>...</td>\n",
       "      <td>...</td>\n",
       "      <td>...</td>\n",
       "      <td>...</td>\n",
       "    </tr>\n",
       "    <tr>\n",
       "      <th>966</th>\n",
       "      <td>2021-11-21</td>\n",
       "      <td>199</td>\n",
       "      <td>statistics</td>\n",
       "      <td>113</td>\n",
       "      <td>fr</td>\n",
       "      <td>advanced</td>\n",
       "      <td>1</td>\n",
       "      <td>fr</td>\n",
       "      <td>2020-07-27</td>\n",
       "      <td>pc</td>\n",
       "      <td>6330</td>\n",
       "      <td>2</td>\n",
       "    </tr>\n",
       "    <tr>\n",
       "      <th>977</th>\n",
       "      <td>2021-09-23</td>\n",
       "      <td>19</td>\n",
       "      <td>copywriting</td>\n",
       "      <td>119</td>\n",
       "      <td>it</td>\n",
       "      <td>advanced</td>\n",
       "      <td>1</td>\n",
       "      <td>it</td>\n",
       "      <td>2020-04-12</td>\n",
       "      <td>pc</td>\n",
       "      <td>536</td>\n",
       "      <td>2</td>\n",
       "    </tr>\n",
       "    <tr>\n",
       "      <th>980</th>\n",
       "      <td>2021-08-08</td>\n",
       "      <td>65</td>\n",
       "      <td>UX</td>\n",
       "      <td>121</td>\n",
       "      <td>it</td>\n",
       "      <td>advanced</td>\n",
       "      <td>1</td>\n",
       "      <td>it</td>\n",
       "      <td>2020-05-04</td>\n",
       "      <td>pc</td>\n",
       "      <td>1334</td>\n",
       "      <td>2</td>\n",
       "    </tr>\n",
       "    <tr>\n",
       "      <th>987</th>\n",
       "      <td>2021-08-27</td>\n",
       "      <td>192</td>\n",
       "      <td>full_stack</td>\n",
       "      <td>109</td>\n",
       "      <td>fr</td>\n",
       "      <td>basic</td>\n",
       "      <td>2</td>\n",
       "      <td>fr</td>\n",
       "      <td>2020-05-01</td>\n",
       "      <td>tv</td>\n",
       "      <td>6135</td>\n",
       "      <td>4</td>\n",
       "    </tr>\n",
       "    <tr>\n",
       "      <th>989</th>\n",
       "      <td>2021-12-02</td>\n",
       "      <td>151</td>\n",
       "      <td>statistics</td>\n",
       "      <td>121</td>\n",
       "      <td>it</td>\n",
       "      <td>advanced</td>\n",
       "      <td>3</td>\n",
       "      <td>it</td>\n",
       "      <td>2020-12-02</td>\n",
       "      <td>mobile</td>\n",
       "      <td>6338</td>\n",
       "      <td>2</td>\n",
       "    </tr>\n",
       "  </tbody>\n",
       "</table>\n",
       "<p>125 rows × 12 columns</p>\n",
       "</div>"
      ],
      "text/plain": [
       "    class_date  user_uuid     category  trainer_id language         level  \\\n",
       "3   2021-05-20         67   statistics         114       fr         basic   \n",
       "5   2021-06-16         69   statistics         113       en      advanced   \n",
       "19  2021-08-19         65           UX         121       fr  intermediate   \n",
       "50  2021-09-01        121   full_stack         110       it         basic   \n",
       "55  2021-05-03        149   full_stack         106       en  intermediate   \n",
       "..         ...        ...          ...         ...      ...           ...   \n",
       "966 2021-11-21        199   statistics         113       fr      advanced   \n",
       "977 2021-09-23         19  copywriting         119       it      advanced   \n",
       "980 2021-08-08         65           UX         121       it      advanced   \n",
       "987 2021-08-27        192   full_stack         109       fr         basic   \n",
       "989 2021-12-02        151   statistics         121       it      advanced   \n",
       "\n",
       "     challenge_id country subscription_date platform  class_id  stars  \n",
       "3               1      fr        2020-10-01       tv      6175      2  \n",
       "5               0      uk        2020-08-23       tv      6314      4  \n",
       "19              0      fr        2020-05-04       tv      1270      3  \n",
       "50              3      it        2020-11-03       pc      6178      3  \n",
       "55              2      uk        2020-05-11   mobile      6227      1  \n",
       "..            ...     ...               ...      ...       ...    ...  \n",
       "966             1      fr        2020-07-27       pc      6330      2  \n",
       "977             1      it        2020-04-12       pc       536      2  \n",
       "980             1      it        2020-05-04       pc      1334      2  \n",
       "987             2      fr        2020-05-01       tv      6135      4  \n",
       "989             3      it        2020-12-02   mobile      6338      2  \n",
       "\n",
       "[125 rows x 12 columns]"
      ]
     },
     "execution_count": 13,
     "metadata": {},
     "output_type": "execute_result"
    }
   ],
   "source": [
    "education_df_2021"
   ]
  },
  {
   "cell_type": "markdown",
   "id": "e8e6eb25-b89d-4e28-8f3d-6ae0fc127eb5",
   "metadata": {},
   "source": [
    "Riaplichiamo le nostre analisi, filtrate per il 2021"
   ]
  },
  {
   "cell_type": "code",
   "execution_count": 21,
   "id": "d19763aa-2b94-4fb5-ac22-292c7eb82410",
   "metadata": {},
   "outputs": [
    {
     "data": {
      "image/png": "[encoded data removed]",
      "text/plain": [
       "<Figure size 1440x864 with 3 Axes>"
      ]
     },
     "metadata": {},
     "output_type": "display_data"
    }
   ],
   "source": [
    "# Personalizzazione grafici\n",
    "plt.figure(figsize=(20, 12))\n",
    "\n",
    "# Prima analisi + grafico per education_df_2021\n",
    "level_props_2021 = education_df_2021.level.value_counts() / len(education_df_2021.level) * 100\n",
    "plt.subplot(1,3,1)\n",
    "plt.pie(level_props_2021, labels=level_props_2021.index, autopct=\"%0.1f%%\")\n",
    "plt.title('Livelli di istruzione - 2021')\n",
    "\n",
    "# Seconda analisi + grafico per education_df_2021\n",
    "country_props_2021 = education_df_2021.country.value_counts() / len(education_df_2021.country) * 100\n",
    "plt.subplot(1,3,2)\n",
    "plt.pie(country_props_2021, labels=country_props_2021.index, autopct=\"%0.1f%%\")\n",
    "plt.title('Country - 2021')\n",
    "\n",
    "# Terza analisi + grafico per education_df_2021\n",
    "platform_props_2021 = education_df_2021.platform.value_counts() / len(education_df_2021.platform) * 100\n",
    "plt.subplot(1,3,3)\n",
    "plt.pie(platform_props_2021, labels=platform_props_2021.index, autopct=\"%0.1f%%\")\n",
    "plt.title('Platform - 2021')\n",
    "\n",
    "plt.show()"
   ]
  },
  {
   "cell_type": "code",
   "execution_count": 15,
   "id": "5fff66c0-bd7c-4c68-8aa2-b92ca68ee9d5",
   "metadata": {},
   "outputs": [
    {
     "name": "stdout",
     "output_type": "stream",
     "text": [
      "statistics       35.2\n",
      "UX               16.8\n",
      "data_science     13.6\n",
      "data_analysis    11.2\n",
      "full_stack       10.4\n",
      "copywriting       7.2\n",
      "SEO               5.6\n",
      "Name: category, dtype: float64\n"
     ]
    }
   ],
   "source": [
    "category_props_2021 = education_df_2021.category.value_counts() / len(education_df_2021.category) * 100\n",
    "print(category_props_2021)"
   ]
  },
  {
   "cell_type": "code",
   "execution_count": 25,
   "id": "21b9c43d-2259-4b6b-aef2-63b93f8f54c5",
   "metadata": {},
   "outputs": [
    {
     "data": {
      "image/png": "[encoded data removed]",
      "text/plain": [
       "<Figure size 1440x864 with 1 Axes>"
      ]
     },
     "metadata": {
      "needs_background": "light"
     },
     "output_type": "display_data"
    }
   ],
   "source": [
    "# Personalizzazione grafici\n",
    "plt.figure(figsize=(20, 12))\n",
    "\n",
    "category_props_2021 = education_df_2021.category.value_counts() / len(education_df_2021.category) * 100\n",
    "plt.bar(category_props_2021.index, category_props_2021.values)\n",
    "plt.xticks(rotation=45)\n",
    "plt.xlabel('Category')\n",
    "plt.ylabel('Percentage')\n",
    "plt.title('Materie - 2021')\n",
    "\n",
    "plt.show()\n"
   ]
  },
  {
   "cell_type": "markdown",
   "id": "05f559a3-0298-4fd9-a9b9-d4bf02b8fc4e",
   "metadata": {},
   "source": [
    "## Considerazioni "
   ]
  },
  {
   "cell_type": "markdown",
   "id": "5a3f6eac-f7f1-4209-92e8-a83d429ffb76",
   "metadata": {},
   "source": [
    "Il livello degli studenti advanced è stato maggiore rispetto a un'analisi complessiva -> 48%. Resta l'impressione iniziale: divario considerevole tra studenti advanced e basic. \n",
    "\n",
    "Gli studenti francesi rappresentavano una fetta maggiore -> 29.6%. Basta focus solo tra lingua italiano e inglese. Un altro interessante spunto per una \"Persona\". \n",
    "\n",
    "Il copywriting ha riscontrato un interesse da parte di più studenti rispetto alla SEO. Tuttavia, le percentuale di entrambi le categorie resta basso. "
   ]
  },
  {
   "cell_type": "markdown",
   "id": "4b90a028-3e9b-4b2e-8e74-3374ab82f785",
   "metadata": {},
   "source": [
    "# Download per tableau \n",
    "\n",
    "Scarichiamo adesso il nostro dataframe per proseguire le analisi su Tableau. RFT = Ready for Tableau"
   ]
  },
  {
   "cell_type": "code",
   "execution_count": 26,
   "id": "6eb15c5a-6577-4f5b-903d-a65910e92fd6",
   "metadata": {},
   "outputs": [],
   "source": [
    "education_df.to_csv('education_df_RFT.csv', index=False)"
   ]
  },
  {
   "cell_type": "code",
   "execution_count": null,
   "id": "68b7e24f-b7cc-4169-b755-e7ebafef637b",
   "metadata": {},
   "outputs": [],
   "source": []
  }
 ],
 "metadata": {
  "kernelspec": {
   "display_name": "Python 3 (ipykernel)",
   "language": "python",
   "name": "python3"
  },
  "language_info": {
   "codemirror_mode": {
    "name": "ipython",
    "version": 3
   },
   "file_extension": ".py",
   "mimetype": "text/x-python",
   "name": "python",
   "nbconvert_exporter": "python",
   "pygments_lexer": "ipython3",
   "version": "3.9.12"
  }
 },
 "nbformat": 4,
 "nbformat_minor": 5
}
