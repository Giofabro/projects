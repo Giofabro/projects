{
 "cells": [
  {
   "attachments": {},
   "cell_type": "markdown",
   "id": "ab04b1b7",
   "metadata": {},
   "source": [
    "## Simulazione Gioco\n",
    "\n",
    "\n",
    "Scrivi un programma in Python che simuli un gioco in cui il personaggio si muove su una griglia 5x5 alla ricerca di oggetti. \n",
    "\n",
    "- La griglia è rappresentata da una matrice di zeri inizialmente vuota. \n",
    "\n",
    "- Gli oggetti sono posizionati in tre celle della griglia scelte casualmente. \n",
    "\n",
    "- Il programma deve chiedere all'utente di muovere il personaggio tramite i tasti w (sopra), a (sinistra), s (sotto) e d (destra). \n",
    "\n",
    "- Se il personaggio si muove in una cella contenente un oggetto, l'oggetto viene raccolto e il carattere nella griglia viene sostituito da un 1. \n",
    "\n",
    "- Il programma deve terminare quando tutti gli oggetti sono stati raccolti.\n",
    "\n"
   ]
  },
  {
   "attachments": {},
   "cell_type": "markdown",
   "id": "9e184760",
   "metadata": {},
   "source": [
    "## Soluzione"
   ]
  },
  {
   "cell_type": "code",
   "execution_count": 1,
   "id": "806cff03",
   "metadata": {},
   "outputs": [],
   "source": [
    "import numpy as np\n",
    "import random as rnd"
   ]
  },
  {
   "cell_type": "code",
   "execution_count": 2,
   "id": "f1a45156",
   "metadata": {},
   "outputs": [
    {
     "name": "stdout",
     "output_type": "stream",
     "text": [
      "Posizione oggetto: (1, 0)\n",
      "Posizione oggetto: (3, 3)\n",
      "Posizione oggetto: (0, 4)\n",
      "Mossa non valida\n",
      "Mossa non valida\n",
      "Mossa non valida\n",
      "Mossa non valida\n",
      "Mossa non valida\n",
      "Mossa non valida\n",
      "Mossa non valida\n",
      "Mossa non valida\n",
      "Mossa non valida\n",
      "Mossa non valida\n",
      "Mossa non valida\n",
      "Mossa non valida\n"
     ]
    }
   ],
   "source": [
    "grid = np.zeros((5, 5))  # griglia 5x5 inizialmente vuota\n",
    "\n",
    "# creazione posizione oggetti\n",
    "objects = [] # lista di oggetti (inizialmente vuota)\n",
    "counter = 0 # contatore di quanti oggetti abbiamo messo\n",
    "while counter < 3:\n",
    "    col = rnd.randint(0, 4)\n",
    "    row = rnd.randint(0, 4)\n",
    "    if not((row,col) in objects): # l'oggetto è gia in lista?\n",
    "        objects.append((row,col)) # aggiungiamo il nuovo oggetto alla lista\n",
    "        counter += 1 # abbiamo messo un oggetto, aggiungiamo 1 al contatore\n",
    "\n",
    "pos = (0, 0)  # posizione iniziale del personaggio\n",
    "\n",
    "for obj in objects:\n",
    "    print(f\"Posizione oggetto: {obj}\")\n",
    "\n",
    "while set(objects):  # finché non ha raccolto tutti gli oggetti\n",
    "    move = input(\"Muovi il personaggio (w/a/s/d): \").lower()\n",
    "    if move in [\"w\", \"a\", \"s\", \"d\"]:\n",
    "        if move == \"w\":\n",
    "            pos = (max(pos[0]-1, 0), pos[1])\n",
    "        elif move == \"a\":\n",
    "            pos = (pos[0], max(pos[1]-1, 0))\n",
    "        elif move == \"s\":\n",
    "            pos = (min(pos[0]+1, 4), pos[1])\n",
    "        else:\n",
    "            pos = (pos[0], min(pos[1]+1, 4))\n",
    "        print(f\"Nuova posizione: {pos}\")\n",
    "        if pos in objects:\n",
    "            print(\"Hai raccolto un oggetto!\")\n",
    "            objects.remove(pos)\n",
    "    else:\n",
    "        print(\"Mossa non valida\")\n",
    "print(\"Complimenti, hai vinto!\")\n"
   ]
  }
 ],
 "metadata": {
  "kernelspec": {
   "display_name": "Python 3 (ipykernel)",
   "language": "python",
   "name": "python3"
  },
  "language_info": {
   "codemirror_mode": {
    "name": "ipython",
    "version": 3
   },
   "file_extension": ".py",
   "mimetype": "text/x-python",
   "name": "python",
   "nbconvert_exporter": "python",
   "pygments_lexer": "ipython3",
   "version": "3.10.8"
  }
 },
 "nbformat": 4,
 "nbformat_minor": 5
}
